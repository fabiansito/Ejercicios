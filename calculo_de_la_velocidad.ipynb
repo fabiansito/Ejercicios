{
  "nbformat": 4,
  "nbformat_minor": 0,
  "metadata": {
    "colab": {
      "provenance": [],
      "authorship_tag": "ABX9TyMb3oJMEbwFpu1wu8rLDjqC",
      "include_colab_link": true
    },
    "kernelspec": {
      "name": "python3",
      "display_name": "Python 3"
    },
    "language_info": {
      "name": "python"
    }
  },
  "cells": [
    {
      "cell_type": "markdown",
      "metadata": {
        "id": "view-in-github",
        "colab_type": "text"
      },
      "source": [
        "<a href=\"https://colab.research.google.com/github/fabiansito/Ejercicios/blob/main/calculo_de_la_velocidad.ipynb\" target=\"_parent\"><img src=\"https://colab.research.google.com/assets/colab-badge.svg\" alt=\"Open In Colab\"/></a>"
      ]
    },
    {
      "cell_type": "code",
      "execution_count": 1,
      "metadata": {
        "colab": {
          "base_uri": "https://localhost:8080/"
        },
        "id": "jYjv-c-7dew1",
        "outputId": "4faa4b5a-5fb4-4b45-94ca-99f9b8fddcf7"
      },
      "outputs": [
        {
          "output_type": "stream",
          "name": "stdout",
          "text": [
            "Ingrese la distancia recorrida en metros: 10\n",
            "Ingrese el tiempo empleado en segundos: 5\n",
            "La velocidad es: 2.0 m/s\n"
          ]
        }
      ],
      "source": [
        "# Cálculo de la velocidad (m/s)\n",
        "\n",
        "# Pedir los datos al usuario\n",
        "distancia = float(input(\"Ingrese la distancia recorrida en metros: \"))\n",
        "tiempo = float(input(\"Ingrese el tiempo empleado en segundos: \"))\n",
        "\n",
        "# Calcular la velocidad\n",
        "velocidad = distancia / tiempo\n",
        "\n",
        "# Mostrar el resultado\n",
        "print(\"La velocidad es:\", velocidad, \"m/s\")\n"
      ]
    },
    {
      "cell_type": "code",
      "source": [],
      "metadata": {
        "id": "NZSAb9A7hq2O"
      },
      "execution_count": null,
      "outputs": []
    }
  ]
}