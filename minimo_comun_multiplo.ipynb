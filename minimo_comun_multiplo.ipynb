{
  "nbformat": 4,
  "nbformat_minor": 0,
  "metadata": {
    "colab": {
      "provenance": [],
      "authorship_tag": "ABX9TyOFQdKEoh7Uv5esKHUHurst",
      "include_colab_link": true
    },
    "kernelspec": {
      "name": "python3",
      "display_name": "Python 3"
    },
    "language_info": {
      "name": "python"
    }
  },
  "cells": [
    {
      "cell_type": "markdown",
      "metadata": {
        "id": "view-in-github",
        "colab_type": "text"
      },
      "source": [
        "<a href=\"https://colab.research.google.com/github/fabiansito/Ejercicios/blob/main/minimo_comun_multiplo.ipynb\" target=\"_parent\"><img src=\"https://colab.research.google.com/assets/colab-badge.svg\" alt=\"Open In Colab\"/></a>"
      ]
    },
    {
      "cell_type": "code",
      "execution_count": 1,
      "metadata": {
        "colab": {
          "base_uri": "https://localhost:8080/"
        },
        "id": "ZcTyx7BPlrYd",
        "outputId": "042fc00d-b6e0-48f1-8c3f-1c977a9f1057"
      },
      "outputs": [
        {
          "output_type": "stream",
          "name": "stdout",
          "text": [
            "MCM(12, 18) = 36\n",
            "MCM(5, 7) = 35\n",
            "MCM(0, 10) = 0\n",
            "MCM(8, 20) = 40\n",
            "MCM de [4, 6, 8] = 24\n"
          ]
        }
      ],
      "source": [
        "# Código para calcular el Mínimo Común Múltiplo (MCM)\n",
        "\n",
        "import math\n",
        "\n",
        "# --- Función para calcular el MCD (Máximo Común Divisor) ---\n",
        "def gcd(a, b):\n",
        "    while b != 0:\n",
        "        a, b = b, a % b\n",
        "    return a\n",
        "\n",
        "# --- Función para calcular el MCM de dos números ---\n",
        "def lcm(a, b):\n",
        "    if a == 0 or b == 0:\n",
        "        return 0\n",
        "    return abs(a // gcd(a, b) * b)\n",
        "\n",
        "# --- Función para calcular el MCM de una lista de números ---\n",
        "from functools import reduce\n",
        "def lcm_list(numbers):\n",
        "    return reduce(lambda x, y: lcm(x, y), numbers, 1)\n",
        "\n",
        "# --- Ejemplos de uso ---\n",
        "print(\"MCM(12, 18) =\", lcm(12, 18))\n",
        "print(\"MCM(5, 7) =\", lcm(5, 7))\n",
        "print(\"MCM(0, 10) =\", lcm(0, 10))\n",
        "print(\"MCM(8, 20) =\", lcm(8, 20))\n",
        "print(\"MCM de [4, 6, 8] =\", lcm_list([4, 6, 8]))\n"
      ]
    },
    {
      "cell_type": "markdown",
      "source": [
        "MCM(12, 18) = 36\n",
        "MCM(5, 7) = 35\n",
        "MCM(0, 10) = 0\n",
        "MCM(8, 20) = 40\n",
        "MCM de [4, 6, 8] = 24\n"
      ],
      "metadata": {
        "id": "mmIbcCAPmLLL"
      }
    }
  ]
}